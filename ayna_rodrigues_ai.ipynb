{
  "cells": [
    {
      "cell_type": "markdown",
      "metadata": {
        "id": "view-in-github",
        "colab_type": "text"
      },
      "source": [
        "<a href=\"https://colab.research.google.com/github/aynarodrigues/alura_ia_desafio/blob/main/ayna_rodrigues_ai.ipynb\" target=\"_parent\"><img src=\"https://colab.research.google.com/assets/colab-badge.svg\" alt=\"Open In Colab\"/></a>"
      ]
    },
    {
      "cell_type": "markdown",
      "source": [
        "Modelo de Planejador de Viagem"
      ],
      "metadata": {
        "id": "3Leb9ZCg8Wuo"
      }
    },
    {
      "cell_type": "code",
      "source": [
        "!pip install -q -U google-generativeai"
      ],
      "metadata": {
        "id": "PPe4tWtSgOz_"
      },
      "execution_count": null,
      "outputs": []
    },
    {
      "cell_type": "code",
      "source": [
        "import google.generativeai as genai\n",
        "from google.colab import userdata\n",
        "api_key = userdata.get('SECRET_KEY')\n",
        "genai.configure(api_key=api_key)"
      ],
      "metadata": {
        "id": "pl-HCEJK6P83"
      },
      "execution_count": null,
      "outputs": []
    },
    {
      "cell_type": "markdown",
      "source": [
        "Lista de Generator"
      ],
      "metadata": {
        "id": "0n4Oux5g8bX-"
      }
    },
    {
      "cell_type": "code",
      "source": [
        "for m in genai.list_models():\n",
        "    if 'generateContent' in m.supported_generation_methods:\n",
        "        print(m.name)"
      ],
      "metadata": {
        "colab": {
          "base_uri": "https://localhost:8080/",
          "height": 145
        },
        "id": "G59y5mj960-p",
        "outputId": "ed71c9c4-f01a-4ccb-eb7a-0845451d1b1f"
      },
      "execution_count": null,
      "outputs": [
        {
          "output_type": "stream",
          "name": "stdout",
          "text": [
            "models/gemini-1.0-pro\n",
            "models/gemini-1.0-pro-001\n",
            "models/gemini-1.0-pro-latest\n",
            "models/gemini-1.0-pro-vision-latest\n",
            "models/gemini-1.5-pro-latest\n",
            "models/gemini-pro\n",
            "models/gemini-pro-vision\n"
          ]
        }
      ]
    },
    {
      "cell_type": "code",
      "source": [
        "generation_config = {\n",
        "  \"temperature\": 2,\n",
        "  \"top_p\": 0.95,\n",
        "  \"top_k\": 0,\n",
        "  \"max_output_tokens\": 1000,\n",
        "}\n",
        "\n",
        "safety_settings = {\n",
        "  \"HARASSMENT\": \"BLOCK_NONE\",\n",
        "  \"HATE\": \"BLOCK_NONE\",\n",
        "  \"SEXUAL\": \"BLOCK_NONE\",\n",
        "  \"DANGEROUS\": \"BLOCK_NONE\",\n",
        "}"
      ],
      "metadata": {
        "id": "poNwAaRa85HK"
      },
      "execution_count": null,
      "outputs": []
    },
    {
      "cell_type": "code",
      "source": [
        "model = genai.GenerativeModel(model_name=\"gemini-1.0-pro\",\n",
        "                              generation_config=generation_config,\n",
        "                              safety_settings=safety_settings)"
      ],
      "metadata": {
        "id": "Q93GO8E19RMq"
      },
      "execution_count": null,
      "outputs": []
    },
    {
      "cell_type": "code",
      "source": [
        "chat=model.start_chat(history=[])\n"
      ],
      "metadata": {
        "id": "AAwStM_oBF8G"
      },
      "execution_count": null,
      "outputs": []
    },
    {
      "cell_type": "markdown",
      "source": [
        "Receber informações do usuário\n"
      ],
      "metadata": {
        "id": "5h6KwMid_B9e"
      }
    },
    {
      "cell_type": "code",
      "source": [
        "import random\n",
        "\n",
        "#   pontos turísticos e atividades em São Paulo\n",
        "pontos_turisticos_sp = {\n",
        "    \"cultura\": [\n",
        "        (\"Museu de Arte de São Paulo (MASP)\", \"Admirar obras de arte renomadas.\"),\n",
        "        (\"Pinacoteca de São Paulo\", \"Explorar a arte brasileira.\"),\n",
        "        (\"Museu do Futebol\", \"Mergulhar na história do futebol brasileiro.\"),\n",
        "        (\"Centro Cultural Banco do Brasil (CCBB)\", \"Visitar exposições de arte e cultura.\"),\n",
        "        (\"Theatro Municipal de São Paulo\", \"Assistir a um espetáculo de música ou teatro.\"),\n",
        "        (\"Catedral da Sé\", \"Conhecer a imponente catedral.\"),\n",
        "        (\"Mosteiro de São Bento\", \"Apreciar a arquitetura e a história do mosteiro.\"),\n",
        "        (\"Parque Ibirapuera - Auditório Ibirapuera, Oca\", \"Explorar os museus e espaços culturais do parque.\"),\n",
        "        (\"Japan House São Paulo\", \"Conhecer a cultura japonesa.\"),\n",
        "        (\"Casa das Rosas\", \"Visitar a casa-museu e participar de eventos literários.\"),\n",
        "    ],\n",
        "    \"gastronomia\": [\n",
        "        (\"Mercado Municipal de São Paulo\", \"Degustar iguarias e comprar produtos frescos.\"),\n",
        "        (\"Rua Augusta (bares e restaurantes)\", \"Experimentar a culinária local em bares e restaurantes da moda.\"),\n",
        "        (\"Vila Madalena (bares e restaurantes)\", \"Desfrutar da vida noturna e da gastronomia da Vila Madalena.\"),\n",
        "        (\"Liberdade (culinária japonesa)\", \"Explorar o bairro japonês e saborear a autêntica culinária japonesa.\"),\n",
        "        (\"Bixiga (culinária italiana)\", \"Degustar pratos italianos tradicionais em cantinas charmosas.\"),\n",
        "        (\"Rua dos Pinheiros (restaurantes modernos)\", \"Conhecer restaurantes inovadores e experimentar novos sabores.\"),\n",
        "        (\"Eataly São Paulo\", \"Desfrutar de uma experiência gastronômica italiana completa.\"),\n",
        "        (\"Paribar\", \"Saborear drinks e petiscos em um ambiente descolado.\"),\n",
        "        (\"Bar Brahma\", \"Tomar uma cerveja gelada no tradicional bar.\"),\n",
        "    ],\n",
        "    \"aventura\": [\n",
        "        (\"Parque Ibirapuera (ciclismo, corrida)\", \"Praticar atividades físicas ao ar livre.\"),\n",
        "        (\"Parque da Aclimação (trilhas)\", \"Fazer trilhas e apreciar a natureza.\"),\n",
        "        (\"Parque Estadual da Cantareira (trilhas e cachoeiras)\", \"Explorar trilhas e cachoeiras na Serra da Cantareira.\"),\n",
        "        (\"Escape 60 (Escape Room)\", \"Testar suas habilidades em um jogo de Escape Room.\"),\n",
        "        (\"Kartódromo Granja Viana\", \"Acelerar em uma corrida de kart.\"),\n",
        "        (\"Trilha do Morro do Jaraguá\", \"Fazer uma trilha desafiadora e apreciar a vista panorâmica da cidade.\"),\n",
        "    ]\n",
        "}\n",
        "\n",
        "def gerar_roteiro(interesses, estilo, ritmo, dias):\n",
        "    \"\"\"Gera um roteiro de viagem para São Paulo.\"\"\"\n",
        "    roteiro = []\n",
        "\n",
        "    for dia in range(1, dias + 1):\n",
        "        print(f\"\\nDia {dia}:\")\n",
        "\n",
        "        #  atividades aleatórias com base nos interesses do usuário\n",
        "        atividades_do_dia = random.sample(pontos_turisticos_sp[interesses], 2)\n",
        "\n",
        "        #   atividade com sua descrição\n",
        "        for atividade, descricao in atividades_do_dia:\n",
        "            print(f\" - {atividade}: {descricao}\")\n",
        "\n",
        "        #  o roteiro ao estilo de viagem\n",
        "        if estilo == \"econômico\":\n",
        "            print(\" - Dica econômica: Utilize transporte público e explore opções de alimentação acessíveis.\")\n",
        "        elif estilo == \"luxo\":\n",
        "            print(\" - Dica de luxo: Desfrute de transporte particular e experimente restaurantes sofisticados.\")\n",
        "\n",
        "        #  o ritmo do roteiro\n",
        "        if ritmo == \"relaxado\":\n",
        "            print(\" - Tempo livre: Relaxe no hotel, explore a região ou desfrute de um passeio tranquilo.\")\n",
        "        elif ritmo == \"agitado\":\n",
        "            print(\" - Curta a noite: Explore a vida noturna de São Paulo em bares, pubs ou casas de show.\")\n",
        "\n",
        "    return roteiro\n",
        "\n",
        "def main():\n",
        "    interesses = input(\"Digite o seu interesse (aventura, cultura, gastronomia): \")\n",
        "    estilo = input(\"Digite o estilo de viagem (econômico, luxo): \")\n",
        "    ritmo = input(\"Digite o ritmo da viagem (relaxado, moderado, agitado): \")\n",
        "    dias = int(input(\"Digite a quantidade de dias da viagem: \"))\n",
        "\n",
        "    roteiro = gerar_roteiro(interesses, estilo, ritmo, dias)\n",
        "\n",
        "if __name__ == \"__main__\":\n",
        "    main()"
      ],
      "metadata": {
        "id": "UY1agk4eU3IG"
      },
      "execution_count": null,
      "outputs": []
    }
  ],
  "metadata": {
    "colab": {
      "provenance": [],
      "include_colab_link": true
    },
    "kernelspec": {
      "display_name": "Python 3",
      "name": "python3"
    },
    "language_info": {
      "name": "python"
    }
  },
  "nbformat": 4,
  "nbformat_minor": 0
}